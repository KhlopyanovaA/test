{
  "cells": [
    {
      "cell_type": "markdown",
      "id": "f3fa8e14",
      "metadata": {
        "id": "f3fa8e14"
      },
      "source": [
        "# ЗАДАЧА 1"
      ]
    },
    {
      "cell_type": "markdown",
      "id": "2b62a570",
      "metadata": {
        "id": "2b62a570"
      },
      "source": [
        "Продакт на главной mail.ru решил протестировать в рекомендательной ленте контента вместо карточек со статьями видеоплеер с короткими видео. Нынешний таймспент на юзера в день в среднем равен 25 минут, а стандартная ошибка (SD) равна 156. Мы предполагаем, что в новой версии таймспент на юзера в день изменится на 10%. Средний трафик 20000 человек в день. Посчитайте сколько дней необходимо держать эксперимент при alpha = 5% и beta = 20% ."
      ]
    },
    {
      "cell_type": "markdown",
      "id": "e28478d7",
      "metadata": {
        "id": "e28478d7"
      },
      "source": [
        "## РЕШЕНИЕ"
      ]
    },
    {
      "cell_type": "code",
      "execution_count": null,
      "id": "c236ddae",
      "metadata": {
        "id": "c236ddae"
      },
      "outputs": [],
      "source": [
        "import statsmodels.stats.power as smp"
      ]
    },
    {
      "cell_type": "code",
      "execution_count": null,
      "id": "e1bed726",
      "metadata": {
        "id": "e1bed726"
      },
      "outputs": [],
      "source": [
        "# Уровень значимости alpha = 0.05, мощность 1-beta = 0.8 (то есть beta = 0.2).\n",
        "alpha = 0.05\n",
        "beta = 0.2"
      ]
    },
    {
      "cell_type": "code",
      "execution_count": null,
      "id": "0c891f9e",
      "metadata": {
        "id": "0c891f9e"
      },
      "outputs": [],
      "source": [
        "# Вычисляем новый средний таймспент\n",
        "new_mean = 1.1 * 25"
      ]
    },
    {
      "cell_type": "code",
      "execution_count": null,
      "id": "fefaf970",
      "metadata": {
        "id": "fefaf970"
      },
      "outputs": [],
      "source": [
        "# Вычисляем разницу между средними значениями\n",
        "d = new_mean - 25"
      ]
    },
    {
      "cell_type": "code",
      "execution_count": null,
      "id": "386d8fe8",
      "metadata": {
        "id": "386d8fe8"
      },
      "outputs": [],
      "source": [
        "# Рассчитываем минимальный размер выборки для каждой группы\n",
        "sd = 156  # стандартная ошибка\n",
        "n = smp.tt_ind_solve_power(effect_size=d / sd, nobs1=None, alpha=alpha, power=1-beta, ratio=1, alternative='two-sided')\n",
        "n_group = round(n / 2)"
      ]
    },
    {
      "cell_type": "code",
      "execution_count": null,
      "id": "923639cb",
      "metadata": {
        "id": "923639cb"
      },
      "outputs": [],
      "source": [
        "# Количество пользователей, которые посетят сайт за период эксперимента\n",
        "traffic = 20000"
      ]
    },
    {
      "cell_type": "code",
      "execution_count": null,
      "id": "50b6ea00",
      "metadata": {
        "id": "50b6ea00"
      },
      "outputs": [],
      "source": [
        "# Длительность эксперимента в днях\n",
        "duration = n_group / traffic"
      ]
    },
    {
      "cell_type": "code",
      "execution_count": null,
      "id": "48d0da9f",
      "metadata": {
        "id": "48d0da9f",
        "outputId": "ab1cd0fd-bd6c-4e2b-d7ac-e802e91103a3"
      },
      "outputs": [
        {
          "name": "stdout",
          "output_type": "stream",
          "text": [
            "Минимальное количество юзеров в каждой группе: 30562\n",
            "Продолжительность эксперимента в днях: 1.5281\n"
          ]
        }
      ],
      "source": [
        "print('Минимальное количество юзеров в каждой группе:', n_group)\n",
        "print('Продолжительность эксперимента в днях:', duration)"
      ]
    },
    {
      "cell_type": "markdown",
      "id": "91418b1e",
      "metadata": {
        "id": "91418b1e"
      },
      "source": [
        "Таким образом, чтобы достичь заданных уровней значимости и мощности эксперимента, необходимо провести эксперимент в течение около 1.5 дня"
      ]
    },
    {
      "cell_type": "markdown",
      "id": "c6c080ff",
      "metadata": {
        "id": "c6c080ff"
      },
      "source": [
        "# ЗАДАЧА2"
      ]
    },
    {
      "cell_type": "markdown",
      "id": "9223cca1",
      "metadata": {
        "id": "9223cca1"
      },
      "source": [
        "Наша продуктовая команда в ecommerce магазине планирует запустить тест, направленный на ускорение загрузки сайта. Одна из основных метрик bounce rate в GA = 40%. Мы предполагаем, что при оптимизации сайта она изменится минимум на 20%.Средний трафик 4000 человек в день. Посчитайте сколько нам нужно дней держать эксперимент при alpha = 5% и beta = 20%"
      ]
    },
    {
      "cell_type": "markdown",
      "id": "94c162d8",
      "metadata": {
        "id": "94c162d8"
      },
      "source": [
        "## РЕШЕНИЕ"
      ]
    },
    {
      "cell_type": "code",
      "execution_count": null,
      "id": "c116cddc",
      "metadata": {
        "id": "c116cddc"
      },
      "outputs": [],
      "source": [
        "import statsmodels.stats.api as sms"
      ]
    },
    {
      "cell_type": "code",
      "execution_count": null,
      "id": "e68d7948",
      "metadata": {
        "id": "e68d7948"
      },
      "outputs": [],
      "source": [
        "# Уровень значимости alpha = 0.05, мощность 1-beta = 0.8 (то есть beta = 0.2).\n",
        "alpha = 0.05\n",
        "beta = 0.2"
      ]
    },
    {
      "cell_type": "code",
      "execution_count": null,
      "id": "c4a9d662",
      "metadata": {
        "id": "c4a9d662"
      },
      "outputs": [],
      "source": [
        "# Вычисляем текущее значение bounce rate и новое значение при изменении метрики на 20%\n",
        "current_bounce_rate = 0.4\n",
        "new_bounce_rate = 0.4 * 1.2"
      ]
    },
    {
      "cell_type": "code",
      "execution_count": null,
      "id": "8706e31d",
      "metadata": {
        "id": "8706e31d"
      },
      "outputs": [],
      "source": [
        "# Вычисляем разницу между средними значениями\n",
        "d = current_bounce_rate - new_bounce_rate"
      ]
    },
    {
      "cell_type": "code",
      "execution_count": null,
      "id": "16e43880",
      "metadata": {
        "id": "16e43880"
      },
      "outputs": [],
      "source": [
        "# Рассчитываем минимальный размер выборки для каждой группы\n",
        "n = sms.NormalIndPower().solve_power(effect_size=d, alpha=alpha, power=1-beta, ratio=1)"
      ]
    },
    {
      "cell_type": "code",
      "execution_count": null,
      "id": "2559f083",
      "metadata": {
        "id": "2559f083"
      },
      "outputs": [],
      "source": [
        "# Количество пользователей, которые посетят сайт за период эксперимента\n",
        "traffic = 4000"
      ]
    },
    {
      "cell_type": "code",
      "execution_count": null,
      "id": "c1dc81b9",
      "metadata": {
        "id": "c1dc81b9"
      },
      "outputs": [],
      "source": [
        "# Длительность эксперимента в днях\n",
        "duration = n / traffic"
      ]
    },
    {
      "cell_type": "code",
      "execution_count": null,
      "id": "f74f6f55",
      "metadata": {
        "id": "f74f6f55",
        "outputId": "56c832a8-0b8f-4748-cd41-0313b2bff633"
      },
      "outputs": [
        {
          "name": "stdout",
          "output_type": "stream",
          "text": [
            "Минимальное количество юзеров в каждой группе: 2453\n",
            "Продолжительность эксперимента в днях: 1\n"
          ]
        }
      ],
      "source": [
        "print('Минимальное количество юзеров в каждой группе:', round(n))\n",
        "print('Продолжительность эксперимента в днях:', round(duration))"
      ]
    },
    {
      "cell_type": "markdown",
      "id": "2cf32e13",
      "metadata": {
        "id": "2cf32e13"
      },
      "source": [
        "Таким образом, чтобы достичь заданных уровней значимости и мощности эксперимента, необходимо провести эксперимент в течение 1 дня."
      ]
    }
  ],
  "metadata": {
    "kernelspec": {
      "display_name": "Python 3 (ipykernel)",
      "language": "python",
      "name": "python3"
    },
    "language_info": {
      "codemirror_mode": {
        "name": "ipython",
        "version": 3
      },
      "file_extension": ".py",
      "mimetype": "text/x-python",
      "name": "python",
      "nbconvert_exporter": "python",
      "pygments_lexer": "ipython3",
      "version": "3.9.13"
    },
    "colab": {
      "provenance": []
    }
  },
  "nbformat": 4,
  "nbformat_minor": 5
}